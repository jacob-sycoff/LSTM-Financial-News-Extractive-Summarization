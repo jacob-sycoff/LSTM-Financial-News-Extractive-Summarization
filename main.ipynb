{
 "cells": [
  {
   "cell_type": "markdown",
   "metadata": {
    "id": "mX36H3EQpCVF"
   },
   "source": [
    "# **Baseline and LSTM Model**\n",
    "As described in the README.md file, all changes to rouge for implementation in FinRouge take place in the rouge package folder contained within this repo. These changes are automatically reflected upon import of rouge, and are confirmed by a message that prints at import.\n",
    "\n",
    "**Note: In order to run this notebook, you must first follow the instructions located in the README.md file.**"
   ]
  },
  {
   "cell_type": "code",
   "execution_count": null,
   "metadata": {
    "id": "_wmuU4cYajVw"
   },
   "outputs": [],
   "source": [
    "#This cell contains packages that may need to be installed. If you do not have a package, you may \n",
    "#uncomment the appropriate line and run it.\n",
    "\n",
    "#!pip install transformers\n",
    "#!pip install bert-extractive-summarizer\n",
    "#!pip install tensorflow\n",
    "#!pip install sentencepiece\n",
    "#!pip install rouge\n",
    "#!pip install neuralcoref\n",
    "#!pip install spacy\n",
    "#!python -m spacy download en_core_web_md"
   ]
  },
  {
   "cell_type": "code",
   "execution_count": null,
   "metadata": {
    "colab": {
     "base_uri": "https://localhost:8080/"
    },
    "id": "cHqJry4rTW9h",
    "outputId": "c626f173-5fa9-43e5-cc07-e27d2e73b3e2"
   },
   "outputs": [
    {
     "name": "stderr",
     "output_type": "stream",
     "text": [
      "/usr/lib/python3.7/importlib/_bootstrap.py:219: RuntimeWarning: spacy.morphology.Morphology size changed, may indicate binary incompatibility. Expected 104 from C header, got 112 from PyObject\n",
      "  return f(*args, **kwds)\n",
      "/usr/lib/python3.7/importlib/_bootstrap.py:219: RuntimeWarning: spacy.vocab.Vocab size changed, may indicate binary incompatibility. Expected 96 from C header, got 104 from PyObject\n",
      "  return f(*args, **kwds)\n",
      "/usr/lib/python3.7/importlib/_bootstrap.py:219: RuntimeWarning: spacy.tokens.span.Span size changed, may indicate binary incompatibility. Expected 72 from C header, got 80 from PyObject\n",
      "  return f(*args, **kwds)\n",
      "100%|██████████| 40155833/40155833 [00:00<00:00, 48463998.54B/s]\n"
     ]
    }
   ],
   "source": [
    "import pandas as pd\n",
    "import numpy as np\n",
    "from transformers import BertTokenizer, TFBertModel\n",
    "from rouge import Rouge\n"
   ]
  },
  {
   "cell_type": "markdown",
   "metadata": {
    "id": "6c3cYmZFdEkn"
   },
   "source": [
    "***Baseline with PyPi's Bert Extractive Summarizer***"
   ]
  },
  {
   "cell_type": "code",
   "execution_count": null,
   "metadata": {
    "colab": {
     "base_uri": "https://localhost:8080/",
     "height": 165,
     "referenced_widgets": [
      "63e21a6ba0494e6ca5d5aeaef7dd6ed7",
      "8a312b842c77490aafbd4986323fd9ec",
      "b68bdfc31868450b974be5e1c1500cbe",
      "3a8d68591a1b42e797c72cfe28e12b65",
      "e74a0cbb85cf4ec480a0f918a6f8db13",
      "b952af1ee7e2475ea9b558f195f55e43",
      "1c439f676bbb4f0f990c19aeb1fe8468",
      "472c1adb93f043cdb72001dc5c47641c",
      "9bd06b1b5b654d0fbfcababf9bc82e6f",
      "2fa0d85118174a67adbe8c175f04ce8d",
      "2d5a46951b20472ca9c092f7641a8850",
      "173f7a917fb74612ac8ac87e267b90a1",
      "572ae4fb7e5e440ab661a0b5e4f827c3",
      "d33566a0e3684e8c922c2bb87f7768e5",
      "e10e99ec8f7043d98e76b83eeda58ade",
      "2aa4fae1e8184bcda472af32496bfdfc",
      "ad06bb8e1e8e4828a96ce22a84cad3d7",
      "8f221dec97f441d7ba928453dd48f573",
      "11c3766ad5324df49bd70b2653ec1fa8",
      "736f25f28bc74515bb5bfa0b36004890",
      "4702798d1a3243038904e2e57feeae63",
      "c5fd6548f5b8462b9a76bd8cc62e2103",
      "6f1eb87fe56b4a77a9e141308854ec61",
      "05ff9eaa2dd94b7ca57ed38275232924"
     ]
    },
    "id": "juKVWplrTW9k",
    "outputId": "647b05e7-e072-47fa-e4eb-19feb7600a55"
   },
   "outputs": [
    {
     "data": {
      "application/vnd.jupyter.widget-view+json": {
       "model_id": "63e21a6ba0494e6ca5d5aeaef7dd6ed7",
       "version_major": 2,
       "version_minor": 0
      },
      "text/plain": [
       "HBox(children=(FloatProgress(value=0.0, description='Downloading', max=231508.0, style=ProgressStyle(descripti…"
      ]
     },
     "metadata": {
      "tags": []
     },
     "output_type": "display_data"
    },
    {
     "name": "stdout",
     "output_type": "stream",
     "text": [
      "\n"
     ]
    },
    {
     "data": {
      "application/vnd.jupyter.widget-view+json": {
       "model_id": "9bd06b1b5b654d0fbfcababf9bc82e6f",
       "version_major": 2,
       "version_minor": 0
      },
      "text/plain": [
       "HBox(children=(FloatProgress(value=0.0, description='Downloading', max=28.0, style=ProgressStyle(description_w…"
      ]
     },
     "metadata": {
      "tags": []
     },
     "output_type": "display_data"
    },
    {
     "name": "stdout",
     "output_type": "stream",
     "text": [
      "\n"
     ]
    },
    {
     "data": {
      "application/vnd.jupyter.widget-view+json": {
       "model_id": "ad06bb8e1e8e4828a96ce22a84cad3d7",
       "version_major": 2,
       "version_minor": 0
      },
      "text/plain": [
       "HBox(children=(FloatProgress(value=0.0, description='Downloading', max=466062.0, style=ProgressStyle(descripti…"
      ]
     },
     "metadata": {
      "tags": []
     },
     "output_type": "display_data"
    },
    {
     "name": "stdout",
     "output_type": "stream",
     "text": [
      "\n"
     ]
    }
   ],
   "source": [
    "tokenizer = BertTokenizer.from_pretrained('bert-base-uncased')"
   ]
  },
  {
   "cell_type": "code",
   "execution_count": null,
   "metadata": {
    "id": "Ul2F_9JSp2Sa"
   },
   "outputs": [],
   "source": [
    "df = pd.read_csv(\"newsdf.csv\")"
   ]
  },
  {
   "cell_type": "code",
   "execution_count": null,
   "metadata": {
    "id": "d_GSQpcU75kM"
   },
   "outputs": [],
   "source": [
    "# make sure that the text is strictly of type string and the language is english.\n",
    "df = df[df['text'].apply(lambda x: isinstance(x, str))]\n",
    "df = df.loc[df['language'] == \"english\"]"
   ]
  },
  {
   "cell_type": "markdown",
   "metadata": {
    "id": "lse406CsWfWk"
   },
   "source": [
    "***Sample article in the corpus***"
   ]
  },
  {
   "cell_type": "code",
   "execution_count": null,
   "metadata": {
    "colab": {
     "base_uri": "https://localhost:8080/",
     "height": 53
    },
    "id": "XP3pQ53OACct",
    "outputId": "f992df3b-81d4-4d2a-bcee-417689e2ad28"
   },
   "outputs": [
    {
     "data": {
      "application/vnd.google.colaboratory.intrinsic+json": {
       "type": "string"
      },
      "text/plain": [
       "'March 27(Reuters) - AU Optronics Corp :\\n* Says it plans to pay cash dividend of T$1.2/share for 2017\\nSource text in Chinese: goo.gl/uxuxci\\nFurther company coverage: (Beijing Headline News)\\n '"
      ]
     },
     "execution_count": 10,
     "metadata": {
      "tags": []
     },
     "output_type": "execute_result"
    }
   ],
   "source": [
    "df['text'][0]"
   ]
  },
  {
   "cell_type": "code",
   "execution_count": null,
   "metadata": {
    "id": "K9bXExKSWF5h"
   },
   "outputs": [],
   "source": [
    "from summarizer import Summarizer\n",
    "model = Summarizer()"
   ]
  },
  {
   "cell_type": "code",
   "execution_count": null,
   "metadata": {
    "colab": {
     "base_uri": "https://localhost:8080/",
     "height": 71
    },
    "id": "Sp33uGjSyuFw",
    "outputId": "a8c8e0e6-70cb-4677-8279-6f0608a70459"
   },
   "outputs": [
    {
     "data": {
      "application/vnd.google.colaboratory.intrinsic+json": {
       "type": "string"
      },
      "text/plain": [
       "'March 27(Reuters) - AU Optronics Corp :\\n* Says it plans to pay cash dividend of T$1.2/share for 2017\\nSource text in Chinese: goo.gl/uxuxci\\nFurther company coverage: (Beijing Headline News)'"
      ]
     },
     "execution_count": 45,
     "metadata": {
      "tags": []
     },
     "output_type": "execute_result"
    }
   ],
   "source": [
    "res = model(df['text'][0])\n",
    "res"
   ]
  },
  {
   "cell_type": "markdown",
   "metadata": {
    "id": "HLzyab0wJ-3c"
   },
   "source": [
    "Here, we use elbow to specify the optimal number of sentences in the hypothesis sentence summarization. "
   ]
  },
  {
   "cell_type": "code",
   "execution_count": null,
   "metadata": {
    "id": "XWyg4yWTxqsV"
   },
   "outputs": [],
   "source": [
    "summaries = []\n",
    "for t in list(df['text']):\n",
    "  num_sentences = model.calculate_optimal_k(t, k_max=10)\n",
    "  result = model(body= t, num_sentences=num_sentences)\n",
    "  summaries.append(''.join(result))"
   ]
  },
  {
   "cell_type": "code",
   "execution_count": null,
   "metadata": {
    "colab": {
     "base_uri": "https://localhost:8080/",
     "height": 71
    },
    "id": "7lBVk9_qZuJ9",
    "outputId": "e2bad9bc-7790-41c4-b346-d7a4ad65da5d"
   },
   "outputs": [
    {
     "data": {
      "application/vnd.google.colaboratory.intrinsic+json": {
       "type": "string"
      },
      "text/plain": [
       "'March 27(Reuters) - AU Optronics Corp :\\n* Says it plans to pay cash dividend of T$1.2/share for 2017\\nSource text in Chinese: goo.gl/uxuxci\\nFurther company coverage: (Beijing Headline News)'"
      ]
     },
     "execution_count": 47,
     "metadata": {
      "tags": []
     },
     "output_type": "execute_result"
    }
   ],
   "source": [
    "summaries[0]"
   ]
  },
  {
   "cell_type": "code",
   "execution_count": null,
   "metadata": {
    "id": "TGL-DsNMx8nW"
   },
   "outputs": [],
   "source": [
    "df['summaries'] = pd.Series(summaries)"
   ]
  },
  {
   "cell_type": "code",
   "execution_count": null,
   "metadata": {
    "colab": {
     "base_uri": "https://localhost:8080/"
    },
    "id": "Dp-lT8rvx8qO",
    "outputId": "86e8dd3a-0d96-413d-f3e3-4502523abe8f"
   },
   "outputs": [
    {
     "data": {
      "text/plain": [
       "0.1"
      ]
     },
     "execution_count": 49,
     "metadata": {
      "tags": []
     },
     "output_type": "execute_result"
    }
   ],
   "source": [
    "np.mean(np.array(df['text']) == np.array(df['summaries']))"
   ]
  },
  {
   "cell_type": "markdown",
   "metadata": {
    "id": "6cYp3WQ-KH8q"
   },
   "source": [
    "About 10% of the summarized articles are identical to the original article text."
   ]
  },
  {
   "cell_type": "markdown",
   "metadata": {
    "id": "GnoTXLYxdbVM"
   },
   "source": [
    "**Now that we have summarized the articles in our corpus, let us use Rouge metric to attemp to score our initial attemp.** We use our aforementioned FinRouge package, which is a modification of PyRouge, a summarization evaluation package."
   ]
  },
  {
   "cell_type": "code",
   "execution_count": null,
   "metadata": {
    "colab": {
     "base_uri": "https://localhost:8080/"
    },
    "id": "5t0fFpqLx8tG",
    "outputId": "f5d90ed8-5dd9-47c9-d49d-4da50c8d2944"
   },
   "outputs": [
    {
     "data": {
      "text/plain": [
       "{'rouge-1': {'f': 0.5721986992959578,\n",
       "  'p': 0.9991596638655462,\n",
       "  'r': 0.46414224691138095},\n",
       " 'rouge-2': {'f': 0.5657310743409856,\n",
       "  'p': 0.9864468872588035,\n",
       "  'r': 0.4592730245376804},\n",
       " 'rouge-l': {'f': 0.6575778499591654,\n",
       "  'p': 0.9989247311827956,\n",
       "  'r': 0.5487586495283288}}"
      ]
     },
     "execution_count": 50,
     "metadata": {
      "tags": []
     },
     "output_type": "execute_result"
    }
   ],
   "source": [
    "from rouge import Rouge\n",
    "# rouge = Rouge()\n",
    "# scores = rouge.get_scores(res, df['text'][0])\n",
    "# scores\n",
    "\n",
    "hyps, refs = list(df['summaries']), list(df['text'])\n",
    "rouge = Rouge()\n",
    "scores = rouge.get_scores(hyps, refs, avg = True)\n",
    "scores"
   ]
  },
  {
   "cell_type": "markdown",
   "metadata": {
    "id": "0R1lQKrdLDsb"
   },
   "source": [
    "We get a Rouge score for bigram recall of 0.459/1. **Next, we attempt to summarize a document by simply using the first 3 sentences.**"
   ]
  },
  {
   "cell_type": "code",
   "execution_count": null,
   "metadata": {
    "id": "olSMHKGhxquu"
   },
   "outputs": [],
   "source": [
    "import re\n",
    "sentences = list(df['text'])\n",
    "first_3 = []\n",
    "for sentence in sentences:\n",
    "  first_3.append(' '.join(re.split(r'(?<=[.:;])\\s', sentence)[:4]))"
   ]
  },
  {
   "cell_type": "code",
   "execution_count": null,
   "metadata": {
    "colab": {
     "base_uri": "https://localhost:8080/"
    },
    "id": "tbCobKZSM-y_",
    "outputId": "611b5645-c689-47e6-a292-67cf8cfd2ad0"
   },
   "outputs": [
    {
     "data": {
      "text/plain": [
       "{'rouge-1': {'f': 0.6251823344699587, 'p': 1.0, 'r': 0.5389781379708752},\n",
       " 'rouge-2': {'f': 0.6240696186269217, 'p': 1.0, 'r': 0.5380210322606225},\n",
       " 'rouge-l': {'f': 0.6772991857863555, 'p': 1.0, 'r': 0.5805159844148441}}"
      ]
     },
     "execution_count": 52,
     "metadata": {
      "tags": []
     },
     "output_type": "execute_result"
    }
   ],
   "source": [
    "scores = rouge.get_scores(first_3, sentences, avg = True)\n",
    "scores"
   ]
  },
  {
   "cell_type": "markdown",
   "metadata": {
    "id": "ddIH5mtSOP6k"
   },
   "source": [
    "Using this method, we get a Rouge score of 0.538/1 . It turns out that using the first 3 sentences is producing 'better' summarizations according to FinRouge scoring"
   ]
  },
  {
   "cell_type": "markdown",
   "metadata": {
    "id": "cARtAGBnu-Cq"
   },
   "source": [
    "**This section takes the above code for a basic summarizer baseline, first 3-sentence as summary, and FinRouge scoring. It puts them into funcitons for easy future use:**"
   ]
  },
  {
   "cell_type": "code",
   "execution_count": null,
   "metadata": {
    "id": "teH-dJCOQAwl"
   },
   "outputs": [],
   "source": [
    "#Functions to score, make a model, and summarize\n",
    "\n",
    "from summarizer import Summarizer\n",
    "from rouge import Rouge\n",
    "import re\n",
    "from summarizer.coreference_handler import CoreferenceHandler\n",
    "\n",
    "from rouge import Rouge\n",
    "def score_it(df):\n",
    "  \"\"\"This function takes in a df that already includes two columns - one labeled text and one labeled summaries.\n",
    "  It outputs rouge-1, rouge-2, and rouge-l scores \"\"\"\n",
    "  hyps, refs = list(df['summaries']), list(df['text'])\n",
    "  rouge = Rouge()\n",
    "  scores = rouge.get_scores(hyps, refs, avg = True)\n",
    "  return scores\n",
    "\n",
    "def summarize_and_score(df, model = \"bert-extractive-summarizer\", num_articles = 10, handler = None ):\n",
    "  \"\"\"This funciton accepts a dataset, model = \"first_3\" or \"bert-extractive-summarizer\", and __________ parameters as input and outputs rouge-1, rouge-2, and rouge-l scores\"\"\"\n",
    "  if random_or_ordered == 'ordered':\n",
    "    df = df.iloc[:num_articles]\n",
    "  else:\n",
    "    print(\"Sorry, \",random_or_ordered,\"not yet implemented\")\n",
    "  \n",
    "  if model == 'first_3':\n",
    "    sentences = list(df['text'])\n",
    "    first_3 = []\n",
    "    for sentence in sentences:\n",
    "      first_3.append(' '.join(re.split(r'(?<=[.:;])\\s', sentence)[:4]))\n",
    "    df['summaries'] = first_3\n",
    "  elif model == 'bert-extractive-summarizer':\n",
    "    if handler:\n",
    "      model = Summarizer(sentence_handler = handler)\n",
    "    else:\n",
    "      model = Summarizer()\n",
    "    summaries = []\n",
    "    for t in list(df['text']):\n",
    "      num_sentences = model.calculate_optimal_k(t, k_max=10)\n",
    "      result = model(body= t, num_sentences=num_sentences)\n",
    "      summaries.append(''.join(result))\n",
    "    df['summaries'] = pd.Series(summaries)\n",
    "  else:\n",
    "    raise ValueError(model, \"is not a model that can be used here\") \n",
    "  return score_it(df)"
   ]
  },
  {
   "cell_type": "code",
   "execution_count": null,
   "metadata": {
    "id": "32ZMJ0dhAb9X"
   },
   "outputs": [],
   "source": []
  },
  {
   "cell_type": "code",
   "execution_count": null,
   "metadata": {
    "id": "zJcJhxYtAdQs"
   },
   "outputs": [],
   "source": []
  },
  {
   "cell_type": "markdown",
   "metadata": {
    "id": "vv2iIhXchmIg"
   },
   "source": [
    "## ***FINAL LSTM MODEL USED***"
   ]
  },
  {
   "cell_type": "code",
   "execution_count": null,
   "metadata": {
    "colab": {
     "base_uri": "https://localhost:8080/"
    },
    "id": "_kHdCvL_1QF9",
    "outputId": "9ef29224-55d6-457f-f92b-ed74e03909db"
   },
   "outputs": [
    {
     "name": "stdout",
     "output_type": "stream",
     "text": [
      "Collecting contractions\n",
      "  Downloading https://files.pythonhosted.org/packages/0a/04/d5e0bb9f2cef5d15616ebf68087a725c5dbdd71bd422bcfb35d709f98ce7/contractions-0.0.48-py2.py3-none-any.whl\n",
      "Collecting textsearch>=0.0.21\n",
      "  Downloading https://files.pythonhosted.org/packages/d3/fe/021d7d76961b5ceb9f8d022c4138461d83beff36c3938dc424586085e559/textsearch-0.0.21-py2.py3-none-any.whl\n",
      "Collecting anyascii\n",
      "\u001b[?25l  Downloading https://files.pythonhosted.org/packages/09/c7/61370d9e3c349478e89a5554c1e5d9658e1e3116cc4f2528f568909ebdf1/anyascii-0.1.7-py3-none-any.whl (260kB)\n",
      "\u001b[K     |████████████████████████████████| 266kB 6.5MB/s \n",
      "\u001b[?25hCollecting pyahocorasick\n",
      "\u001b[?25l  Downloading https://files.pythonhosted.org/packages/7f/c2/eae730037ae1cbbfaa229d27030d1d5e34a1e41114b21447d1202ae9c220/pyahocorasick-1.4.2.tar.gz (321kB)\n",
      "\u001b[K     |████████████████████████████████| 327kB 8.7MB/s \n",
      "\u001b[?25hBuilding wheels for collected packages: pyahocorasick\n",
      "  Building wheel for pyahocorasick (setup.py) ... \u001b[?25l\u001b[?25hdone\n",
      "  Created wheel for pyahocorasick: filename=pyahocorasick-1.4.2-cp37-cp37m-linux_x86_64.whl size=85399 sha256=e0a0429e878e3f65b9295a61f3c48422847cea1e1b65a61d0f3724e46555055a\n",
      "  Stored in directory: /root/.cache/pip/wheels/3a/03/34/77e3ece0bba8b86bfac88a79f923b36d805cad63caeba38842\n",
      "Successfully built pyahocorasick\n",
      "Installing collected packages: anyascii, pyahocorasick, textsearch, contractions\n",
      "Successfully installed anyascii-0.1.7 contractions-0.0.48 pyahocorasick-1.4.2 textsearch-0.0.21\n"
     ]
    }
   ],
   "source": [
    "!pip install contractions\n",
    "import contractions"
   ]
  },
  {
   "cell_type": "code",
   "execution_count": null,
   "metadata": {
    "colab": {
     "base_uri": "https://localhost:8080/",
     "height": 133
    },
    "id": "9RwJuo_q1QAH",
    "outputId": "37ef5312-3e23-4874-db82-a91723feb8b4"
   },
   "outputs": [
    {
     "data": {
      "text/html": [
       "<div>\n",
       "<style scoped>\n",
       "    .dataframe tbody tr th:only-of-type {\n",
       "        vertical-align: middle;\n",
       "    }\n",
       "\n",
       "    .dataframe tbody tr th {\n",
       "        vertical-align: top;\n",
       "    }\n",
       "\n",
       "    .dataframe thead th {\n",
       "        text-align: right;\n",
       "    }\n",
       "</style>\n",
       "<table border=\"1\" class=\"dataframe\">\n",
       "  <thead>\n",
       "    <tr style=\"text-align: right;\">\n",
       "      <th></th>\n",
       "      <th>title</th>\n",
       "      <th>text</th>\n",
       "    </tr>\n",
       "  </thead>\n",
       "  <tbody>\n",
       "    <tr>\n",
       "      <th>0</th>\n",
       "      <td>BRIEF-AU Optronics to pay cash dividend of T$1...</td>\n",
       "      <td>March 27(Reuters) - AU Optronics Corp :\\n* Say...</td>\n",
       "    </tr>\n",
       "    <tr>\n",
       "      <th>1</th>\n",
       "      <td>British stats watchdog - stop using RPI inflat...</td>\n",
       "      <td>March 8, 2018 / 1:35 PM / Updated an hour ago ...</td>\n",
       "    </tr>\n",
       "    <tr>\n",
       "      <th>2</th>\n",
       "      <td>Dropbox shares surge in IPO</td>\n",
       "      <td>Dropbox shares surge in IPO Saturday, March 24...</td>\n",
       "    </tr>\n",
       "  </tbody>\n",
       "</table>\n",
       "</div>"
      ],
      "text/plain": [
       "                                               title                                               text\n",
       "0  BRIEF-AU Optronics to pay cash dividend of T$1...  March 27(Reuters) - AU Optronics Corp :\\n* Say...\n",
       "1  British stats watchdog - stop using RPI inflat...  March 8, 2018 / 1:35 PM / Updated an hour ago ...\n",
       "2                        Dropbox shares surge in IPO  Dropbox shares surge in IPO Saturday, March 24..."
      ]
     },
     "execution_count": 8,
     "metadata": {
      "tags": []
     },
     "output_type": "execute_result"
    }
   ],
   "source": [
    "df_copy = df[['title', 'text']]\n",
    "df_copy.head(3)\n",
    "# make sure that the text is strictly of type string and the language is english.\n",
    "df_copy = df_copy[df_copy['text'].apply(lambda x: isinstance(x, str))]\n",
    "df_copy = df_copy.loc[df['language'] == \"english\"]\n",
    "df_copy = df_copy.sample(500).reset_index()"
   ]
  },
  {
   "cell_type": "markdown",
   "metadata": {
    "id": "vIh07KRZ_c-B"
   },
   "source": [
    "Preprocessing data"
   ]
  },
  {
   "cell_type": "markdown",
   "metadata": {
    "id": "3ZocPCPLBxNQ"
   },
   "source": [
    "Reme Extra Whitespaces and lowercase sentences"
   ]
  },
  {
   "cell_type": "code",
   "execution_count": null,
   "metadata": {
    "id": "nJz509shB0u7"
   },
   "outputs": [],
   "source": [
    "texts = df_copy['text']\n",
    "new_texts = []\n",
    "for sentence in list(texts):\n",
    "  edited = \" \".join(sentence.split())\n",
    "  edited = edited.lower()\n",
    "  new_texts.append(edited)"
   ]
  },
  {
   "cell_type": "code",
   "execution_count": null,
   "metadata": {
    "id": "XQ9OOzmTB88d"
   },
   "outputs": [],
   "source": [
    "titles = df_copy['title']\n",
    "new_titles = []\n",
    "for sentence in list(titles):\n",
    "  edited = \" \".join(sentence.split())\n",
    "  edited = edited.lower()\n",
    "  new_titles.append(edited)"
   ]
  },
  {
   "cell_type": "code",
   "execution_count": null,
   "metadata": {
    "colab": {
     "base_uri": "https://localhost:8080/",
     "height": 191
    },
    "id": "yIYEPUuGCDKi",
    "outputId": "b2cc5a58-6a2a-4c24-cc54-e8032ae9e7b5"
   },
   "outputs": [
    {
     "data": {
      "text/html": [
       "<div>\n",
       "<style scoped>\n",
       "    .dataframe tbody tr th:only-of-type {\n",
       "        vertical-align: middle;\n",
       "    }\n",
       "\n",
       "    .dataframe tbody tr th {\n",
       "        vertical-align: top;\n",
       "    }\n",
       "\n",
       "    .dataframe thead th {\n",
       "        text-align: right;\n",
       "    }\n",
       "</style>\n",
       "<table border=\"1\" class=\"dataframe\">\n",
       "  <thead>\n",
       "    <tr style=\"text-align: right;\">\n",
       "      <th></th>\n",
       "      <th>title</th>\n",
       "      <th>text</th>\n",
       "    </tr>\n",
       "  </thead>\n",
       "  <tbody>\n",
       "    <tr>\n",
       "      <th>0</th>\n",
       "      <td>brief-au optronics to pay cash dividend of t$1...</td>\n",
       "      <td>march 27(reuters) - au optronics corp : * says...</td>\n",
       "    </tr>\n",
       "    <tr>\n",
       "      <th>1</th>\n",
       "      <td>british stats watchdog - stop using rpi inflat...</td>\n",
       "      <td>march 8, 2018 / 1:35 pm / updated an hour ago ...</td>\n",
       "    </tr>\n",
       "    <tr>\n",
       "      <th>2</th>\n",
       "      <td>dropbox shares surge in ipo</td>\n",
       "      <td>dropbox shares surge in ipo saturday, march 24...</td>\n",
       "    </tr>\n",
       "    <tr>\n",
       "      <th>3</th>\n",
       "      <td>bookkeeper of auschwitz dies before starting s...</td>\n",
       "      <td>berlin (reuters) - the man known as the âboo...</td>\n",
       "    </tr>\n",
       "    <tr>\n",
       "      <th>4</th>\n",
       "      <td>us stocks set for a negative open as trade war...</td>\n",
       "      <td>dow closes 336 points higher as trade-war worr...</td>\n",
       "    </tr>\n",
       "  </tbody>\n",
       "</table>\n",
       "</div>"
      ],
      "text/plain": [
       "                                               title                                               text\n",
       "0  brief-au optronics to pay cash dividend of t$1...  march 27(reuters) - au optronics corp : * says...\n",
       "1  british stats watchdog - stop using rpi inflat...  march 8, 2018 / 1:35 pm / updated an hour ago ...\n",
       "2                        dropbox shares surge in ipo  dropbox shares surge in ipo saturday, march 24...\n",
       "3  bookkeeper of auschwitz dies before starting s...  berlin (reuters) - the man known as the âboo...\n",
       "4  us stocks set for a negative open as trade war...  dow closes 336 points higher as trade-war worr..."
      ]
     },
     "execution_count": 11,
     "metadata": {
      "tags": []
     },
     "output_type": "execute_result"
    }
   ],
   "source": [
    "df_copy['text'] = pd.Series(new_texts)\n",
    "df_copy['title'] = pd.Series(new_titles)\n",
    "df_copy.head(5)"
   ]
  },
  {
   "cell_type": "markdown",
   "metadata": {
    "id": "KIUX3suZ_gdM"
   },
   "source": [
    "Expand Contractions"
   ]
  },
  {
   "cell_type": "code",
   "execution_count": null,
   "metadata": {
    "id": "ABkr21y18gM2"
   },
   "outputs": [],
   "source": [
    "texts = df_copy['text']\n",
    "sentence_index = -1\n",
    "new_texts_col = []\n",
    "for sentence in list(texts):\n",
    "  sentence_index += 1\n",
    "  new_sentence = \"\"\n",
    "  first = True\n",
    "  for word in sentence.split():\n",
    "    new_word = contractions.fix(word)\n",
    "    if first:\n",
    "      new_sentence += new_word\n",
    "      first = False\n",
    "    else:\n",
    "      new_sentence += \" \" + new_word\n",
    "  new_texts_col.append(new_sentence)"
   ]
  },
  {
   "cell_type": "code",
   "execution_count": null,
   "metadata": {
    "id": "gDoEdCOa-3H0"
   },
   "outputs": [],
   "source": [
    "texts = df_copy['title']\n",
    "sentence_index = -1\n",
    "new_titles_col = []\n",
    "for sentence in list(texts):\n",
    "  sentence_index += 1\n",
    "  new_sentence = \"\"\n",
    "  first = True\n",
    "  for word in sentence.split():\n",
    "    new_word = contractions.fix(word)\n",
    "    if first:\n",
    "      new_sentence += new_word\n",
    "      first = False\n",
    "    else:\n",
    "      new_sentence += \" \" + new_word\n",
    "  new_titles_col.append(new_sentence)"
   ]
  },
  {
   "cell_type": "code",
   "execution_count": null,
   "metadata": {
    "id": "nsT_9klg5j1a"
   },
   "outputs": [],
   "source": [
    "df_copy['text'] = pd.Series(new_texts_col)\n",
    "df_copy['title'] = pd.Series(new_titles_col)"
   ]
  },
  {
   "cell_type": "code",
   "execution_count": null,
   "metadata": {
    "colab": {
     "base_uri": "https://localhost:8080/",
     "height": 191
    },
    "id": "XFuYbyLZ5q9Z",
    "outputId": "540a57aa-78f6-42cb-e83a-9227299a6e60"
   },
   "outputs": [
    {
     "data": {
      "text/html": [
       "<div>\n",
       "<style scoped>\n",
       "    .dataframe tbody tr th:only-of-type {\n",
       "        vertical-align: middle;\n",
       "    }\n",
       "\n",
       "    .dataframe tbody tr th {\n",
       "        vertical-align: top;\n",
       "    }\n",
       "\n",
       "    .dataframe thead th {\n",
       "        text-align: right;\n",
       "    }\n",
       "</style>\n",
       "<table border=\"1\" class=\"dataframe\">\n",
       "  <thead>\n",
       "    <tr style=\"text-align: right;\">\n",
       "      <th></th>\n",
       "      <th>title</th>\n",
       "      <th>text</th>\n",
       "    </tr>\n",
       "  </thead>\n",
       "  <tbody>\n",
       "    <tr>\n",
       "      <th>0</th>\n",
       "      <td>brief-au optronics to pay cash dividend of t$1...</td>\n",
       "      <td>march 27(reuters) - au optronics corp : * says...</td>\n",
       "    </tr>\n",
       "    <tr>\n",
       "      <th>1</th>\n",
       "      <td>british stats watchdog - stop using rpi inflat...</td>\n",
       "      <td>march 8, 2018 / 1:35 pm / updated an hour ago ...</td>\n",
       "    </tr>\n",
       "    <tr>\n",
       "      <th>2</th>\n",
       "      <td>dropbox shares surge in ipo</td>\n",
       "      <td>dropbox shares surge in ipo saturday, march 24...</td>\n",
       "    </tr>\n",
       "    <tr>\n",
       "      <th>3</th>\n",
       "      <td>bookkeeper of auschwitz dies before starting s...</td>\n",
       "      <td>berlin (reuters) - the man known as the âboo...</td>\n",
       "    </tr>\n",
       "    <tr>\n",
       "      <th>4</th>\n",
       "      <td>us stocks set for a negative open as trade war...</td>\n",
       "      <td>dow closes 336 points higher as trade-war worr...</td>\n",
       "    </tr>\n",
       "  </tbody>\n",
       "</table>\n",
       "</div>"
      ],
      "text/plain": [
       "                                               title                                               text\n",
       "0  brief-au optronics to pay cash dividend of t$1...  march 27(reuters) - au optronics corp : * says...\n",
       "1  british stats watchdog - stop using rpi inflat...  march 8, 2018 / 1:35 pm / updated an hour ago ...\n",
       "2                        dropbox shares surge in ipo  dropbox shares surge in ipo saturday, march 24...\n",
       "3  bookkeeper of auschwitz dies before starting s...  berlin (reuters) - the man known as the âboo...\n",
       "4  us stocks set for a negative open as trade war...  dow closes 336 points higher as trade-war worr..."
      ]
     },
     "execution_count": 15,
     "metadata": {
      "tags": []
     },
     "output_type": "execute_result"
    }
   ],
   "source": [
    "df_copy.head()"
   ]
  },
  {
   "cell_type": "code",
   "execution_count": 1,
   "metadata": {
    "id": "DqMMZ7M7IACt"
   },
   "outputs": [],
   "source": [
    "#note - hyperparameter tuning was done on multiple machines"
   ]
  },
  {
   "cell_type": "markdown",
   "metadata": {
    "id": "JN4woiCZinpA"
   },
   "source": [
    "Set the Parameters"
   ]
  },
  {
   "cell_type": "code",
   "execution_count": null,
   "metadata": {
    "id": "Sl1WTaeRC5gr"
   },
   "outputs": [],
   "source": [
    "batch_size = 10  # Batch size for training.\n",
    "epochs = 5  # Number of epochs to train for\n",
    "latent_dim = 256  # Latent dimensionality of the encoding space.\n",
    "num_samples = len(list(df_copy['text'])) #10000  Number of samples to train on.\n",
    "# Path to the data txt file on disk.\n",
    "data_path = \"newsdf.csv\""
   ]
  },
  {
   "cell_type": "code",
   "execution_count": null,
   "metadata": {
    "colab": {
     "base_uri": "https://localhost:8080/"
    },
    "id": "ew40m0qDOA2O",
    "outputId": "a0bc57f9-a28e-42e2-f70b-0d7d7921e4b3"
   },
   "outputs": [
    {
     "name": "stdout",
     "output_type": "stream",
     "text": [
      "Number of samples: 500\n",
      "Number of unique input tokens: 99\n",
      "Number of unique output tokens: 99\n",
      "Max sequence length for inputs: 38084\n",
      "Max sequence length for outputs: 225\n"
     ]
    }
   ],
   "source": [
    "# Vectorize the data.\n",
    "input_texts = []\n",
    "target_texts = []\n",
    "input_characters = set()\n",
    "target_characters = set()\n",
    "texts = df_copy['text']\n",
    "titles = df_copy['title']\n",
    "for i in range(len(list(texts))):\n",
    "  input_text = list(texts)[i] + \" \"\n",
    "  target_text = list(titles)[i] + \" \"\n",
    "  target_text = \"\\t\" + target_text + \"\\n\"\n",
    "  input_texts.append(input_text)\n",
    "  target_texts.append(target_text)\n",
    "  for char in input_text:\n",
    "    if char not in input_characters:\n",
    "        input_characters.add(char)\n",
    "  for char in target_text:\n",
    "    if char not in target_characters:\n",
    "        target_characters.add(char)\n",
    "\n",
    "input_characters = sorted(list(input_characters))\n",
    "target_characters = sorted(list(target_characters))\n",
    "num_encoder_tokens = len(input_characters)\n",
    "num_decoder_tokens = len(target_characters)\n",
    "max_encoder_seq_length = max([len(txt) for txt in input_texts])\n",
    "max_decoder_seq_length = max([len(txt) for txt in target_texts])\n",
    "\n",
    "print(\"Number of samples:\", len(input_texts))\n",
    "print(\"Number of unique input tokens:\", num_encoder_tokens)\n",
    "print(\"Number of unique output tokens:\", num_decoder_tokens)\n",
    "print(\"Max sequence length for inputs:\", max_encoder_seq_length)\n",
    "print(\"Max sequence length for outputs:\", max_decoder_seq_length)\n",
    "\n",
    "input_token_index = dict([(char, i) for i, char in enumerate(input_characters)])\n",
    "target_token_index = dict([(char, i) for i, char in enumerate(target_characters)])\n",
    "\n",
    "encoder_input_data = np.zeros(\n",
    "    (len(input_texts), max_encoder_seq_length, num_encoder_tokens), dtype=\"float32\"\n",
    ")\n",
    "decoder_input_data = np.zeros(\n",
    "    (len(input_texts), max_decoder_seq_length, num_decoder_tokens), dtype=\"float32\"\n",
    ")\n",
    "decoder_target_data = np.zeros(\n",
    "    (len(input_texts), max_decoder_seq_length, num_decoder_tokens), dtype=\"float32\"\n",
    ")\n",
    "\n",
    "for i, (input_text, target_text) in enumerate(zip(input_texts, target_texts)):\n",
    "    for t, char in enumerate(input_text):\n",
    "        encoder_input_data[i, t, input_token_index[char]] = 1.0\n",
    "    encoder_input_data[i, t + 1 :, input_token_index[\" \"]] = 1.0\n",
    "    for t, char in enumerate(target_text):\n",
    "        # decoder_target_data is ahead of decoder_input_data by one timestep\n",
    "        decoder_input_data[i, t, target_token_index[char]] = 1.0\n",
    "        if t > 0:\n",
    "            # decoder_target_data will be ahead by one timestep\n",
    "            # and will not include the start character.\n",
    "            decoder_target_data[i, t - 1, target_token_index[char]] = 1.0\n",
    "    decoder_input_data[i, t + 1 :, target_token_index[\" \"]] = 1.0\n",
    "    decoder_target_data[i, t:, target_token_index[\" \"]] = 1.0\n"
   ]
  },
  {
   "cell_type": "code",
   "execution_count": null,
   "metadata": {
    "id": "N7o7DaQJza8w"
   },
   "outputs": [],
   "source": []
  },
  {
   "cell_type": "markdown",
   "metadata": {
    "id": "F8HjI--SO_Me"
   },
   "source": [
    "Build the Model"
   ]
  },
  {
   "cell_type": "code",
   "execution_count": null,
   "metadata": {
    "id": "_VzoD4Fh4nj2"
   },
   "outputs": [],
   "source": [
    "import keras \n",
    "encoder_inputs = keras.Input(shape=(None, num_encoder_tokens))\n",
    "encoder = keras.layers.LSTM(latent_dim, return_state=True)\n",
    "encoder_outputs, state_h, state_c = encoder(encoder_inputs)\n",
    "\n",
    "# We discard `encoder_outputs` and only keep the states.\n",
    "encoder_states = [state_h, state_c]\n",
    "\n",
    "# Set up the decoder, using `encoder_states` as initial state.\n",
    "decoder_inputs = keras.Input(shape=(None, num_decoder_tokens))\n",
    "\n",
    "# We set up our decoder to return full output sequences,\n",
    "# and to return internal states as well. We don't use the\n",
    "# return states in the training model, but we will use them in inference.\n",
    "decoder_lstm = keras.layers.LSTM(latent_dim, return_sequences=True, return_state=True)\n",
    "decoder_outputs, _, _ = decoder_lstm(decoder_inputs, initial_state=encoder_states)\n",
    "decoder_dense = keras.layers.Dense(num_decoder_tokens, activation=\"softmax\")\n",
    "decoder_outputs = decoder_dense(decoder_outputs)\n",
    "\n",
    "# Define the model that will turn\n",
    "# `encoder_input_data` & `decoder_input_data` into `decoder_target_data`\n",
    "model = keras.Model([encoder_inputs, decoder_inputs], decoder_outputs)"
   ]
  },
  {
   "cell_type": "markdown",
   "metadata": {
    "id": "vGW6K1IUi2lX"
   },
   "source": [
    "Train the Model"
   ]
  },
  {
   "cell_type": "code",
   "execution_count": null,
   "metadata": {
    "colab": {
     "base_uri": "https://localhost:8080/"
    },
    "id": "6SDr7ZF-4nm6",
    "outputId": "54d52f78-6994-4b93-ef0b-482f84d0b4d8"
   },
   "outputs": [
    {
     "name": "stdout",
     "output_type": "stream",
     "text": [
      "Epoch 1/5\n",
      "40/40 [==============================] - 1653s 41s/step - loss: 2.0145 - accuracy: 0.6580 - val_loss: 1.1285 - val_accuracy: 0.7346\n",
      "Epoch 2/5\n",
      "40/40 [==============================] - 1635s 41s/step - loss: 1.0888 - accuracy: 0.7438 - val_loss: 1.0354 - val_accuracy: 0.7345\n",
      "Epoch 3/5\n",
      "40/40 [==============================] - 1677s 42s/step - loss: 0.9938 - accuracy: 0.7456 - val_loss: 0.9907 - val_accuracy: 0.7355\n",
      "Epoch 4/5\n",
      "40/40 [==============================] - 1734s 43s/step - loss: 0.9555 - accuracy: 0.7469 - val_loss: 1.0461 - val_accuracy: 0.7360\n",
      "Epoch 5/5\n",
      "40/40 [==============================] - 1750s 44s/step - loss: 0.9495 - accuracy: 0.7454 - val_loss: 0.9506 - val_accuracy: 0.7370\n"
     ]
    },
    {
     "name": "stderr",
     "output_type": "stream",
     "text": [
      "WARNING:absl:Found untraced functions such as lstm_cell_layer_call_fn, lstm_cell_layer_call_and_return_conditional_losses, lstm_cell_1_layer_call_fn, lstm_cell_1_layer_call_and_return_conditional_losses, lstm_cell_layer_call_fn while saving (showing 5 of 10). These functions will not be directly callable after loading.\n",
      "WARNING:absl:Found untraced functions such as lstm_cell_layer_call_fn, lstm_cell_layer_call_and_return_conditional_losses, lstm_cell_1_layer_call_fn, lstm_cell_1_layer_call_and_return_conditional_losses, lstm_cell_layer_call_fn while saving (showing 5 of 10). These functions will not be directly callable after loading.\n"
     ]
    },
    {
     "name": "stdout",
     "output_type": "stream",
     "text": [
      "INFO:tensorflow:Assets written to: /content/drive/MyDrive/lstm_baseline_model_new.pt/assets\n"
     ]
    },
    {
     "name": "stderr",
     "output_type": "stream",
     "text": [
      "INFO:tensorflow:Assets written to: /content/drive/MyDrive/lstm_baseline_model_new.pt/assets\n"
     ]
    }
   ],
   "source": [
    "model.compile(\n",
    "    optimizer=\"rmsprop\", loss=\"categorical_crossentropy\", metrics=[\"accuracy\"]\n",
    ")\n",
    "model.fit(\n",
    "    [encoder_input_data, decoder_input_data],\n",
    "    decoder_target_data,\n",
    "    batch_size=batch_size,\n",
    "    epochs=epochs,\n",
    "    validation_split=0.2,\n",
    ")\n",
    "# Save model\n",
    "model.save(\"lstm_baseline_model_new.pt\")\n"
   ]
  }
 ],
 "metadata": {
  "accelerator": "TPU",
  "colab": {
   "collapsed_sections": [],
   "machine_shape": "hm",
   "name": "main.ipynb",
   "provenance": []
  },
  "environment": {
   "name": "tf2-gpu.2-4.m65",
   "type": "gcloud",
   "uri": "gcr.io/deeplearning-platform-release/tf2-gpu.2-4:m65"
  },
  "kernelspec": {
   "display_name": "Python 3",
   "language": "python",
   "name": "python3"
  },
  "language_info": {
   "codemirror_mode": {
    "name": "ipython",
    "version": 3
   },
   "file_extension": ".py",
   "mimetype": "text/x-python",
   "name": "python",
   "nbconvert_exporter": "python",
   "pygments_lexer": "ipython3",
   "version": "3.7.10"
  },
  "widgets": {
   "application/vnd.jupyter.widget-state+json": {
    "05ff9eaa2dd94b7ca57ed38275232924": {
     "model_module": "@jupyter-widgets/base",
     "model_name": "LayoutModel",
     "state": {
      "_model_module": "@jupyter-widgets/base",
      "_model_module_version": "1.2.0",
      "_model_name": "LayoutModel",
      "_view_count": null,
      "_view_module": "@jupyter-widgets/base",
      "_view_module_version": "1.2.0",
      "_view_name": "LayoutView",
      "align_content": null,
      "align_items": null,
      "align_self": null,
      "border": null,
      "bottom": null,
      "display": null,
      "flex": null,
      "flex_flow": null,
      "grid_area": null,
      "grid_auto_columns": null,
      "grid_auto_flow": null,
      "grid_auto_rows": null,
      "grid_column": null,
      "grid_gap": null,
      "grid_row": null,
      "grid_template_areas": null,
      "grid_template_columns": null,
      "grid_template_rows": null,
      "height": null,
      "justify_content": null,
      "justify_items": null,
      "left": null,
      "margin": null,
      "max_height": null,
      "max_width": null,
      "min_height": null,
      "min_width": null,
      "object_fit": null,
      "object_position": null,
      "order": null,
      "overflow": null,
      "overflow_x": null,
      "overflow_y": null,
      "padding": null,
      "right": null,
      "top": null,
      "visibility": null,
      "width": null
     }
    },
    "11c3766ad5324df49bd70b2653ec1fa8": {
     "model_module": "@jupyter-widgets/controls",
     "model_name": "FloatProgressModel",
     "state": {
      "_dom_classes": [],
      "_model_module": "@jupyter-widgets/controls",
      "_model_module_version": "1.5.0",
      "_model_name": "FloatProgressModel",
      "_view_count": null,
      "_view_module": "@jupyter-widgets/controls",
      "_view_module_version": "1.5.0",
      "_view_name": "ProgressView",
      "bar_style": "success",
      "description": "Downloading: 100%",
      "description_tooltip": null,
      "layout": "IPY_MODEL_c5fd6548f5b8462b9a76bd8cc62e2103",
      "max": 466062,
      "min": 0,
      "orientation": "horizontal",
      "style": "IPY_MODEL_4702798d1a3243038904e2e57feeae63",
      "value": 466062
     }
    },
    "173f7a917fb74612ac8ac87e267b90a1": {
     "model_module": "@jupyter-widgets/controls",
     "model_name": "HTMLModel",
     "state": {
      "_dom_classes": [],
      "_model_module": "@jupyter-widgets/controls",
      "_model_module_version": "1.5.0",
      "_model_name": "HTMLModel",
      "_view_count": null,
      "_view_module": "@jupyter-widgets/controls",
      "_view_module_version": "1.5.0",
      "_view_name": "HTMLView",
      "description": "",
      "description_tooltip": null,
      "layout": "IPY_MODEL_2aa4fae1e8184bcda472af32496bfdfc",
      "placeholder": "​",
      "style": "IPY_MODEL_e10e99ec8f7043d98e76b83eeda58ade",
      "value": " 28.0/28.0 [00:01&lt;00:00, 27.6B/s]"
     }
    },
    "1c439f676bbb4f0f990c19aeb1fe8468": {
     "model_module": "@jupyter-widgets/controls",
     "model_name": "DescriptionStyleModel",
     "state": {
      "_model_module": "@jupyter-widgets/controls",
      "_model_module_version": "1.5.0",
      "_model_name": "DescriptionStyleModel",
      "_view_count": null,
      "_view_module": "@jupyter-widgets/base",
      "_view_module_version": "1.2.0",
      "_view_name": "StyleView",
      "description_width": ""
     }
    },
    "2aa4fae1e8184bcda472af32496bfdfc": {
     "model_module": "@jupyter-widgets/base",
     "model_name": "LayoutModel",
     "state": {
      "_model_module": "@jupyter-widgets/base",
      "_model_module_version": "1.2.0",
      "_model_name": "LayoutModel",
      "_view_count": null,
      "_view_module": "@jupyter-widgets/base",
      "_view_module_version": "1.2.0",
      "_view_name": "LayoutView",
      "align_content": null,
      "align_items": null,
      "align_self": null,
      "border": null,
      "bottom": null,
      "display": null,
      "flex": null,
      "flex_flow": null,
      "grid_area": null,
      "grid_auto_columns": null,
      "grid_auto_flow": null,
      "grid_auto_rows": null,
      "grid_column": null,
      "grid_gap": null,
      "grid_row": null,
      "grid_template_areas": null,
      "grid_template_columns": null,
      "grid_template_rows": null,
      "height": null,
      "justify_content": null,
      "justify_items": null,
      "left": null,
      "margin": null,
      "max_height": null,
      "max_width": null,
      "min_height": null,
      "min_width": null,
      "object_fit": null,
      "object_position": null,
      "order": null,
      "overflow": null,
      "overflow_x": null,
      "overflow_y": null,
      "padding": null,
      "right": null,
      "top": null,
      "visibility": null,
      "width": null
     }
    },
    "2d5a46951b20472ca9c092f7641a8850": {
     "model_module": "@jupyter-widgets/controls",
     "model_name": "FloatProgressModel",
     "state": {
      "_dom_classes": [],
      "_model_module": "@jupyter-widgets/controls",
      "_model_module_version": "1.5.0",
      "_model_name": "FloatProgressModel",
      "_view_count": null,
      "_view_module": "@jupyter-widgets/controls",
      "_view_module_version": "1.5.0",
      "_view_name": "ProgressView",
      "bar_style": "success",
      "description": "Downloading: 100%",
      "description_tooltip": null,
      "layout": "IPY_MODEL_d33566a0e3684e8c922c2bb87f7768e5",
      "max": 28,
      "min": 0,
      "orientation": "horizontal",
      "style": "IPY_MODEL_572ae4fb7e5e440ab661a0b5e4f827c3",
      "value": 28
     }
    },
    "2fa0d85118174a67adbe8c175f04ce8d": {
     "model_module": "@jupyter-widgets/base",
     "model_name": "LayoutModel",
     "state": {
      "_model_module": "@jupyter-widgets/base",
      "_model_module_version": "1.2.0",
      "_model_name": "LayoutModel",
      "_view_count": null,
      "_view_module": "@jupyter-widgets/base",
      "_view_module_version": "1.2.0",
      "_view_name": "LayoutView",
      "align_content": null,
      "align_items": null,
      "align_self": null,
      "border": null,
      "bottom": null,
      "display": null,
      "flex": null,
      "flex_flow": null,
      "grid_area": null,
      "grid_auto_columns": null,
      "grid_auto_flow": null,
      "grid_auto_rows": null,
      "grid_column": null,
      "grid_gap": null,
      "grid_row": null,
      "grid_template_areas": null,
      "grid_template_columns": null,
      "grid_template_rows": null,
      "height": null,
      "justify_content": null,
      "justify_items": null,
      "left": null,
      "margin": null,
      "max_height": null,
      "max_width": null,
      "min_height": null,
      "min_width": null,
      "object_fit": null,
      "object_position": null,
      "order": null,
      "overflow": null,
      "overflow_x": null,
      "overflow_y": null,
      "padding": null,
      "right": null,
      "top": null,
      "visibility": null,
      "width": null
     }
    },
    "3a8d68591a1b42e797c72cfe28e12b65": {
     "model_module": "@jupyter-widgets/controls",
     "model_name": "HTMLModel",
     "state": {
      "_dom_classes": [],
      "_model_module": "@jupyter-widgets/controls",
      "_model_module_version": "1.5.0",
      "_model_name": "HTMLModel",
      "_view_count": null,
      "_view_module": "@jupyter-widgets/controls",
      "_view_module_version": "1.5.0",
      "_view_name": "HTMLView",
      "description": "",
      "description_tooltip": null,
      "layout": "IPY_MODEL_472c1adb93f043cdb72001dc5c47641c",
      "placeholder": "​",
      "style": "IPY_MODEL_1c439f676bbb4f0f990c19aeb1fe8468",
      "value": " 232k/232k [00:01&lt;00:00, 160kB/s]"
     }
    },
    "4702798d1a3243038904e2e57feeae63": {
     "model_module": "@jupyter-widgets/controls",
     "model_name": "ProgressStyleModel",
     "state": {
      "_model_module": "@jupyter-widgets/controls",
      "_model_module_version": "1.5.0",
      "_model_name": "ProgressStyleModel",
      "_view_count": null,
      "_view_module": "@jupyter-widgets/base",
      "_view_module_version": "1.2.0",
      "_view_name": "StyleView",
      "bar_color": null,
      "description_width": "initial"
     }
    },
    "472c1adb93f043cdb72001dc5c47641c": {
     "model_module": "@jupyter-widgets/base",
     "model_name": "LayoutModel",
     "state": {
      "_model_module": "@jupyter-widgets/base",
      "_model_module_version": "1.2.0",
      "_model_name": "LayoutModel",
      "_view_count": null,
      "_view_module": "@jupyter-widgets/base",
      "_view_module_version": "1.2.0",
      "_view_name": "LayoutView",
      "align_content": null,
      "align_items": null,
      "align_self": null,
      "border": null,
      "bottom": null,
      "display": null,
      "flex": null,
      "flex_flow": null,
      "grid_area": null,
      "grid_auto_columns": null,
      "grid_auto_flow": null,
      "grid_auto_rows": null,
      "grid_column": null,
      "grid_gap": null,
      "grid_row": null,
      "grid_template_areas": null,
      "grid_template_columns": null,
      "grid_template_rows": null,
      "height": null,
      "justify_content": null,
      "justify_items": null,
      "left": null,
      "margin": null,
      "max_height": null,
      "max_width": null,
      "min_height": null,
      "min_width": null,
      "object_fit": null,
      "object_position": null,
      "order": null,
      "overflow": null,
      "overflow_x": null,
      "overflow_y": null,
      "padding": null,
      "right": null,
      "top": null,
      "visibility": null,
      "width": null
     }
    },
    "572ae4fb7e5e440ab661a0b5e4f827c3": {
     "model_module": "@jupyter-widgets/controls",
     "model_name": "ProgressStyleModel",
     "state": {
      "_model_module": "@jupyter-widgets/controls",
      "_model_module_version": "1.5.0",
      "_model_name": "ProgressStyleModel",
      "_view_count": null,
      "_view_module": "@jupyter-widgets/base",
      "_view_module_version": "1.2.0",
      "_view_name": "StyleView",
      "bar_color": null,
      "description_width": "initial"
     }
    },
    "63e21a6ba0494e6ca5d5aeaef7dd6ed7": {
     "model_module": "@jupyter-widgets/controls",
     "model_name": "HBoxModel",
     "state": {
      "_dom_classes": [],
      "_model_module": "@jupyter-widgets/controls",
      "_model_module_version": "1.5.0",
      "_model_name": "HBoxModel",
      "_view_count": null,
      "_view_module": "@jupyter-widgets/controls",
      "_view_module_version": "1.5.0",
      "_view_name": "HBoxView",
      "box_style": "",
      "children": [
       "IPY_MODEL_b68bdfc31868450b974be5e1c1500cbe",
       "IPY_MODEL_3a8d68591a1b42e797c72cfe28e12b65"
      ],
      "layout": "IPY_MODEL_8a312b842c77490aafbd4986323fd9ec"
     }
    },
    "6f1eb87fe56b4a77a9e141308854ec61": {
     "model_module": "@jupyter-widgets/controls",
     "model_name": "DescriptionStyleModel",
     "state": {
      "_model_module": "@jupyter-widgets/controls",
      "_model_module_version": "1.5.0",
      "_model_name": "DescriptionStyleModel",
      "_view_count": null,
      "_view_module": "@jupyter-widgets/base",
      "_view_module_version": "1.2.0",
      "_view_name": "StyleView",
      "description_width": ""
     }
    },
    "736f25f28bc74515bb5bfa0b36004890": {
     "model_module": "@jupyter-widgets/controls",
     "model_name": "HTMLModel",
     "state": {
      "_dom_classes": [],
      "_model_module": "@jupyter-widgets/controls",
      "_model_module_version": "1.5.0",
      "_model_name": "HTMLModel",
      "_view_count": null,
      "_view_module": "@jupyter-widgets/controls",
      "_view_module_version": "1.5.0",
      "_view_name": "HTMLView",
      "description": "",
      "description_tooltip": null,
      "layout": "IPY_MODEL_05ff9eaa2dd94b7ca57ed38275232924",
      "placeholder": "​",
      "style": "IPY_MODEL_6f1eb87fe56b4a77a9e141308854ec61",
      "value": " 466k/466k [00:00&lt;00:00, 1.06MB/s]"
     }
    },
    "8a312b842c77490aafbd4986323fd9ec": {
     "model_module": "@jupyter-widgets/base",
     "model_name": "LayoutModel",
     "state": {
      "_model_module": "@jupyter-widgets/base",
      "_model_module_version": "1.2.0",
      "_model_name": "LayoutModel",
      "_view_count": null,
      "_view_module": "@jupyter-widgets/base",
      "_view_module_version": "1.2.0",
      "_view_name": "LayoutView",
      "align_content": null,
      "align_items": null,
      "align_self": null,
      "border": null,
      "bottom": null,
      "display": null,
      "flex": null,
      "flex_flow": null,
      "grid_area": null,
      "grid_auto_columns": null,
      "grid_auto_flow": null,
      "grid_auto_rows": null,
      "grid_column": null,
      "grid_gap": null,
      "grid_row": null,
      "grid_template_areas": null,
      "grid_template_columns": null,
      "grid_template_rows": null,
      "height": null,
      "justify_content": null,
      "justify_items": null,
      "left": null,
      "margin": null,
      "max_height": null,
      "max_width": null,
      "min_height": null,
      "min_width": null,
      "object_fit": null,
      "object_position": null,
      "order": null,
      "overflow": null,
      "overflow_x": null,
      "overflow_y": null,
      "padding": null,
      "right": null,
      "top": null,
      "visibility": null,
      "width": null
     }
    },
    "8f221dec97f441d7ba928453dd48f573": {
     "model_module": "@jupyter-widgets/base",
     "model_name": "LayoutModel",
     "state": {
      "_model_module": "@jupyter-widgets/base",
      "_model_module_version": "1.2.0",
      "_model_name": "LayoutModel",
      "_view_count": null,
      "_view_module": "@jupyter-widgets/base",
      "_view_module_version": "1.2.0",
      "_view_name": "LayoutView",
      "align_content": null,
      "align_items": null,
      "align_self": null,
      "border": null,
      "bottom": null,
      "display": null,
      "flex": null,
      "flex_flow": null,
      "grid_area": null,
      "grid_auto_columns": null,
      "grid_auto_flow": null,
      "grid_auto_rows": null,
      "grid_column": null,
      "grid_gap": null,
      "grid_row": null,
      "grid_template_areas": null,
      "grid_template_columns": null,
      "grid_template_rows": null,
      "height": null,
      "justify_content": null,
      "justify_items": null,
      "left": null,
      "margin": null,
      "max_height": null,
      "max_width": null,
      "min_height": null,
      "min_width": null,
      "object_fit": null,
      "object_position": null,
      "order": null,
      "overflow": null,
      "overflow_x": null,
      "overflow_y": null,
      "padding": null,
      "right": null,
      "top": null,
      "visibility": null,
      "width": null
     }
    },
    "9bd06b1b5b654d0fbfcababf9bc82e6f": {
     "model_module": "@jupyter-widgets/controls",
     "model_name": "HBoxModel",
     "state": {
      "_dom_classes": [],
      "_model_module": "@jupyter-widgets/controls",
      "_model_module_version": "1.5.0",
      "_model_name": "HBoxModel",
      "_view_count": null,
      "_view_module": "@jupyter-widgets/controls",
      "_view_module_version": "1.5.0",
      "_view_name": "HBoxView",
      "box_style": "",
      "children": [
       "IPY_MODEL_2d5a46951b20472ca9c092f7641a8850",
       "IPY_MODEL_173f7a917fb74612ac8ac87e267b90a1"
      ],
      "layout": "IPY_MODEL_2fa0d85118174a67adbe8c175f04ce8d"
     }
    },
    "ad06bb8e1e8e4828a96ce22a84cad3d7": {
     "model_module": "@jupyter-widgets/controls",
     "model_name": "HBoxModel",
     "state": {
      "_dom_classes": [],
      "_model_module": "@jupyter-widgets/controls",
      "_model_module_version": "1.5.0",
      "_model_name": "HBoxModel",
      "_view_count": null,
      "_view_module": "@jupyter-widgets/controls",
      "_view_module_version": "1.5.0",
      "_view_name": "HBoxView",
      "box_style": "",
      "children": [
       "IPY_MODEL_11c3766ad5324df49bd70b2653ec1fa8",
       "IPY_MODEL_736f25f28bc74515bb5bfa0b36004890"
      ],
      "layout": "IPY_MODEL_8f221dec97f441d7ba928453dd48f573"
     }
    },
    "b68bdfc31868450b974be5e1c1500cbe": {
     "model_module": "@jupyter-widgets/controls",
     "model_name": "FloatProgressModel",
     "state": {
      "_dom_classes": [],
      "_model_module": "@jupyter-widgets/controls",
      "_model_module_version": "1.5.0",
      "_model_name": "FloatProgressModel",
      "_view_count": null,
      "_view_module": "@jupyter-widgets/controls",
      "_view_module_version": "1.5.0",
      "_view_name": "ProgressView",
      "bar_style": "success",
      "description": "Downloading: 100%",
      "description_tooltip": null,
      "layout": "IPY_MODEL_b952af1ee7e2475ea9b558f195f55e43",
      "max": 231508,
      "min": 0,
      "orientation": "horizontal",
      "style": "IPY_MODEL_e74a0cbb85cf4ec480a0f918a6f8db13",
      "value": 231508
     }
    },
    "b952af1ee7e2475ea9b558f195f55e43": {
     "model_module": "@jupyter-widgets/base",
     "model_name": "LayoutModel",
     "state": {
      "_model_module": "@jupyter-widgets/base",
      "_model_module_version": "1.2.0",
      "_model_name": "LayoutModel",
      "_view_count": null,
      "_view_module": "@jupyter-widgets/base",
      "_view_module_version": "1.2.0",
      "_view_name": "LayoutView",
      "align_content": null,
      "align_items": null,
      "align_self": null,
      "border": null,
      "bottom": null,
      "display": null,
      "flex": null,
      "flex_flow": null,
      "grid_area": null,
      "grid_auto_columns": null,
      "grid_auto_flow": null,
      "grid_auto_rows": null,
      "grid_column": null,
      "grid_gap": null,
      "grid_row": null,
      "grid_template_areas": null,
      "grid_template_columns": null,
      "grid_template_rows": null,
      "height": null,
      "justify_content": null,
      "justify_items": null,
      "left": null,
      "margin": null,
      "max_height": null,
      "max_width": null,
      "min_height": null,
      "min_width": null,
      "object_fit": null,
      "object_position": null,
      "order": null,
      "overflow": null,
      "overflow_x": null,
      "overflow_y": null,
      "padding": null,
      "right": null,
      "top": null,
      "visibility": null,
      "width": null
     }
    },
    "c5fd6548f5b8462b9a76bd8cc62e2103": {
     "model_module": "@jupyter-widgets/base",
     "model_name": "LayoutModel",
     "state": {
      "_model_module": "@jupyter-widgets/base",
      "_model_module_version": "1.2.0",
      "_model_name": "LayoutModel",
      "_view_count": null,
      "_view_module": "@jupyter-widgets/base",
      "_view_module_version": "1.2.0",
      "_view_name": "LayoutView",
      "align_content": null,
      "align_items": null,
      "align_self": null,
      "border": null,
      "bottom": null,
      "display": null,
      "flex": null,
      "flex_flow": null,
      "grid_area": null,
      "grid_auto_columns": null,
      "grid_auto_flow": null,
      "grid_auto_rows": null,
      "grid_column": null,
      "grid_gap": null,
      "grid_row": null,
      "grid_template_areas": null,
      "grid_template_columns": null,
      "grid_template_rows": null,
      "height": null,
      "justify_content": null,
      "justify_items": null,
      "left": null,
      "margin": null,
      "max_height": null,
      "max_width": null,
      "min_height": null,
      "min_width": null,
      "object_fit": null,
      "object_position": null,
      "order": null,
      "overflow": null,
      "overflow_x": null,
      "overflow_y": null,
      "padding": null,
      "right": null,
      "top": null,
      "visibility": null,
      "width": null
     }
    },
    "d33566a0e3684e8c922c2bb87f7768e5": {
     "model_module": "@jupyter-widgets/base",
     "model_name": "LayoutModel",
     "state": {
      "_model_module": "@jupyter-widgets/base",
      "_model_module_version": "1.2.0",
      "_model_name": "LayoutModel",
      "_view_count": null,
      "_view_module": "@jupyter-widgets/base",
      "_view_module_version": "1.2.0",
      "_view_name": "LayoutView",
      "align_content": null,
      "align_items": null,
      "align_self": null,
      "border": null,
      "bottom": null,
      "display": null,
      "flex": null,
      "flex_flow": null,
      "grid_area": null,
      "grid_auto_columns": null,
      "grid_auto_flow": null,
      "grid_auto_rows": null,
      "grid_column": null,
      "grid_gap": null,
      "grid_row": null,
      "grid_template_areas": null,
      "grid_template_columns": null,
      "grid_template_rows": null,
      "height": null,
      "justify_content": null,
      "justify_items": null,
      "left": null,
      "margin": null,
      "max_height": null,
      "max_width": null,
      "min_height": null,
      "min_width": null,
      "object_fit": null,
      "object_position": null,
      "order": null,
      "overflow": null,
      "overflow_x": null,
      "overflow_y": null,
      "padding": null,
      "right": null,
      "top": null,
      "visibility": null,
      "width": null
     }
    },
    "e10e99ec8f7043d98e76b83eeda58ade": {
     "model_module": "@jupyter-widgets/controls",
     "model_name": "DescriptionStyleModel",
     "state": {
      "_model_module": "@jupyter-widgets/controls",
      "_model_module_version": "1.5.0",
      "_model_name": "DescriptionStyleModel",
      "_view_count": null,
      "_view_module": "@jupyter-widgets/base",
      "_view_module_version": "1.2.0",
      "_view_name": "StyleView",
      "description_width": ""
     }
    },
    "e74a0cbb85cf4ec480a0f918a6f8db13": {
     "model_module": "@jupyter-widgets/controls",
     "model_name": "ProgressStyleModel",
     "state": {
      "_model_module": "@jupyter-widgets/controls",
      "_model_module_version": "1.5.0",
      "_model_name": "ProgressStyleModel",
      "_view_count": null,
      "_view_module": "@jupyter-widgets/base",
      "_view_module_version": "1.2.0",
      "_view_name": "StyleView",
      "bar_color": null,
      "description_width": "initial"
     }
    }
   }
  }
 },
 "nbformat": 4,
 "nbformat_minor": 4
}
